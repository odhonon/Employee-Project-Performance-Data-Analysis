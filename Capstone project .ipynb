{
 "cells": [
  {
   "cell_type": "markdown",
   "id": "ac4fa770",
   "metadata": {},
   "source": [
    "<b>Task 1:</b>\n",
    "<br>There are three different tables as given above. Please make three dataframe in python\n",
    "and save them as three .csv files. From Task 2 to Task 10, use the saved .csv files only.\n"
   ]
  },
  {
   "cell_type": "code",
   "execution_count": 2,
   "id": "684e1c33",
   "metadata": {},
   "outputs": [
    {
     "name": "stdout",
     "output_type": "stream",
     "text": [
      "Employee DataFrame:\n",
      "     ID             Name Gender      City  Age\n",
      "0  A001       John Alter      M     Paris   25\n",
      "1  A002  Alice Luxumberg      F    London   27\n",
      "2  A003    Tom Sabestine      M    Berlin   29\n",
      "3  A004       Nina Adgra      F  New York   31\n",
      "4  A005        Amy Johny      F    Madrid   30\n",
      "\n",
      "Seniority Level DataFrame:\n",
      "     ID  Designation Level\n",
      "0  A001                  2\n",
      "1  A002                  2\n",
      "2  A003                  3\n",
      "3  A004                  2\n",
      "4  A005                  3\n",
      "\n",
      "Project DataFrame:\n",
      "      ID     Project       Cost    Status\n",
      "0   A001   Project 1  1002000.0  Finished\n",
      "1   A002   Project 2  2000000.0   Ongoing\n",
      "2   A003   Project 3  4500000.0  Finished\n",
      "3   A004   Project 4  5500000.0   Ongoing\n",
      "4   A005   Project 5        NaN  Finished\n",
      "5   A002   Project 6   680000.0    Failed\n",
      "6   A005   Project 7   400000.0  Finished\n",
      "7   A003   Project 8   350000.0    Failed\n",
      "8   A001   Project 9        NaN   Ongoing\n",
      "9   A003  Project 10   300000.0  Finished\n",
      "10  A001  Project 11  2000000.0    Failed\n",
      "11  A004  Project 12  1000000.0   Ongoing\n",
      "12  A004  Project 13  3000000.0  Finished\n",
      "13  A005  Project 14   200000.0  Finished\n"
     ]
    }
   ],
   "source": [
    "import pandas as pd\n",
    "\n",
    "#Employee DataFrame\n",
    "employee_data = {\n",
    "    'ID': ['A001', 'A002', 'A003', 'A004', 'A005'],\n",
    "    'Name': ['John Alter', 'Alice Luxumberg', 'Tom Sabestine', 'Nina Adgra', 'Amy Johny'],\n",
    "    'Gender': ['M', 'F', 'M', 'F', 'F'],\n",
    "    'City': ['Paris', 'London', 'Berlin', 'New York', 'Madrid'],\n",
    "    'Age': [25, 27, 29, 31, 30]\n",
    "}\n",
    "employee_df = pd.DataFrame(employee_data)\n",
    "employee_df.to_csv('Employee.csv', index=False)\n",
    "print(\"Employee DataFrame:\")\n",
    "print(employee_df)\n",
    "\n",
    "#Seniority Level DataFrame\n",
    "seniority_data = {\n",
    "    'ID': ['A001', 'A002', 'A003', 'A004', 'A005'],\n",
    "    'Designation Level': [2, 2, 3, 2, 3]\n",
    "}\n",
    "seniority_df = pd.DataFrame(seniority_data)\n",
    "seniority_df.to_csv('Seniority_Level.csv', index=False)\n",
    "print(\"\\nSeniority Level DataFrame:\")\n",
    "print(seniority_df)\n",
    "\n",
    "#Project DataFrame\n",
    "project_data = {\n",
    "    'ID': ['A001', 'A002', 'A003', 'A004', 'A005', 'A002', 'A005', 'A003', 'A001', 'A003', 'A001', 'A004', 'A004', 'A005'],\n",
    "    'Project': ['Project 1', 'Project 2', 'Project 3', 'Project 4', 'Project 5', 'Project 6', 'Project 7', 'Project 8', 'Project 9', 'Project 10', 'Project 11', 'Project 12', 'Project 13', 'Project 14'],\n",
    "    'Cost': [1002000, 2000000, 4500000, 5500000, None, 680000, 400000, 350000, None, 300000, 2000000, 1000000, 3000000, 200000],\n",
    "    'Status': ['Finished', 'Ongoing', 'Finished', 'Ongoing', 'Finished', 'Failed', 'Finished', 'Failed', 'Ongoing', 'Finished', 'Failed', 'Ongoing', 'Finished', 'Finished']\n",
    "}\n",
    "project_df = pd.DataFrame(project_data)\n",
    "project_df.to_csv('Project.csv', index=False)\n",
    "print(\"\\nProject DataFrame:\")\n",
    "print(project_df)"
   ]
  },
  {
   "cell_type": "markdown",
   "id": "d1cfb2d3",
   "metadata": {},
   "source": [
    "<b>Task 2:</b>\n",
    "<br>The cost column in the dataframe “Project” has some missing values. Your task is to compute these missing values. Replace the missing values by running average. You should use the “For” loop for this task."
   ]
  },
  {
   "cell_type": "code",
   "execution_count": 1,
   "id": "2702cad9",
   "metadata": {},
   "outputs": [
    {
     "name": "stdout",
     "output_type": "stream",
     "text": [
      "\n",
      "Project DataFrame after replacing missing values:\n",
      "      ID     Project       Cost    Status\n",
      "0   A001   Project 1  1002000.0  Finished\n",
      "1   A002   Project 2  2000000.0   Ongoing\n",
      "2   A003   Project 3  4500000.0  Finished\n",
      "3   A004   Project 4  5500000.0   Ongoing\n",
      "4   A005   Project 5  3250500.0  Finished\n",
      "5   A002   Project 6   680000.0    Failed\n",
      "6   A005   Project 7   400000.0  Finished\n",
      "7   A003   Project 8   350000.0    Failed\n",
      "8   A001   Project 9  2210312.5   Ongoing\n",
      "9   A003  Project 10   300000.0  Finished\n",
      "10  A001  Project 11  2000000.0    Failed\n",
      "11  A004  Project 12  1000000.0   Ongoing\n",
      "12  A004  Project 13  3000000.0  Finished\n",
      "13  A005  Project 14   200000.0  Finished\n"
     ]
    }
   ],
   "source": [
    "import pandas as pd\n",
    "\n",
    "#Reading the Project CSV file created in Task 1\n",
    "project_df = pd.read_csv('Project.csv')\n",
    "\n",
    "#Replacing missing values with running average\n",
    "costs = project_df['Cost'].tolist()\n",
    "for i in range(len(costs)):\n",
    "    if pd.isna(costs[i]):\n",
    "        costs[i] = sum(cost for cost in costs[:i] if not pd.isna(cost)) / (i if i != 0 else 1)\n",
    "project_df['Cost'] = costs\n",
    "\n",
    "print(\"\\nProject DataFrame after replacing missing values:\")\n",
    "print(project_df)\n"
   ]
  },
  {
   "cell_type": "markdown",
   "id": "26d7bbd4",
   "metadata": {},
   "source": [
    "<b>Task 3:</b>\n",
    "<br>Split the name column in the Employee dataframe into two new columns “First Name” and “Last Name” and remove the older “name” column."
   ]
  },
  {
   "cell_type": "code",
   "execution_count": 3,
   "id": "c48df672",
   "metadata": {},
   "outputs": [
    {
     "name": "stdout",
     "output_type": "stream",
     "text": [
      "     ID Gender      City  Age First Name  Last Name\n",
      "0  A001      M     Paris   25       John      Alter\n",
      "1  A002      F    London   27      Alice  Luxumberg\n",
      "2  A003      M    Berlin   29        Tom  Sabestine\n",
      "3  A004      F  New York   31       Nina      Adgra\n",
      "4  A005      F    Madrid   30        Amy      Johny\n"
     ]
    }
   ],
   "source": [
    "import pandas as pd\n",
    "\n",
    "#Reading the Employee CSV file created in Task 1\n",
    "employee_df = pd.read_csv('Employee.csv')\n",
    "\n",
    "#Spliting Name into First Name and Last Name\n",
    "employee_df[['First Name', 'Last Name']] = employee_df['Name'].str.split(' ', expand=True)\n",
    "\n",
    "#Removing the original Name column\n",
    "employee_df.drop(columns=['Name'], inplace=True)\n",
    "\n",
    "print(employee_df)\n"
   ]
  },
  {
   "cell_type": "markdown",
   "id": "6737bec6",
   "metadata": {},
   "source": [
    "<b>Task 4:</b>\n",
    "<br>Join all three dataframes in one single dataframe. Name it “Final”."
   ]
  },
  {
   "cell_type": "code",
   "execution_count": 4,
   "id": "fc45f7be",
   "metadata": {},
   "outputs": [
    {
     "name": "stdout",
     "output_type": "stream",
     "text": [
      "\n",
      "Final DataFrame after merging:\n",
      "      ID             Name Gender      City  Age  Designation Level  \\\n",
      "0   A001       John Alter      M     Paris   25                  2   \n",
      "1   A001       John Alter      M     Paris   25                  2   \n",
      "2   A001       John Alter      M     Paris   25                  2   \n",
      "3   A002  Alice Luxumberg      F    London   27                  2   \n",
      "4   A002  Alice Luxumberg      F    London   27                  2   \n",
      "5   A003    Tom Sabestine      M    Berlin   29                  3   \n",
      "6   A003    Tom Sabestine      M    Berlin   29                  3   \n",
      "7   A003    Tom Sabestine      M    Berlin   29                  3   \n",
      "8   A004       Nina Adgra      F  New York   31                  2   \n",
      "9   A004       Nina Adgra      F  New York   31                  2   \n",
      "10  A004       Nina Adgra      F  New York   31                  2   \n",
      "11  A005        Amy Johny      F    Madrid   30                  3   \n",
      "12  A005        Amy Johny      F    Madrid   30                  3   \n",
      "13  A005        Amy Johny      F    Madrid   30                  3   \n",
      "\n",
      "       Project       Cost    Status  \n",
      "0    Project 1  1002000.0  Finished  \n",
      "1    Project 9        NaN   Ongoing  \n",
      "2   Project 11  2000000.0    Failed  \n",
      "3    Project 2  2000000.0   Ongoing  \n",
      "4    Project 6   680000.0    Failed  \n",
      "5    Project 3  4500000.0  Finished  \n",
      "6    Project 8   350000.0    Failed  \n",
      "7   Project 10   300000.0  Finished  \n",
      "8    Project 4  5500000.0   Ongoing  \n",
      "9   Project 12  1000000.0   Ongoing  \n",
      "10  Project 13  3000000.0  Finished  \n",
      "11   Project 5        NaN  Finished  \n",
      "12   Project 7   400000.0  Finished  \n",
      "13  Project 14   200000.0  Finished  \n"
     ]
    }
   ],
   "source": [
    "import pandas as pd\n",
    "\n",
    "#Reading the Employee CSV file created in Task 1\n",
    "employee_df = pd.read_csv('Employee.csv')\n",
    "\n",
    "#Reading the Seniority Level CSV file created in Task 1\n",
    "seniority_df = pd.read_csv('Seniority_Level.csv')\n",
    "\n",
    "#Reading the Project CSV file created in Task 1 and updated in Task 2\n",
    "project_df = pd.read_csv('Project.csv')\n",
    "\n",
    "#Merge DataFrames\n",
    "final_df = employee_df.merge(seniority_df, on='ID').merge(project_df, on='ID')\n",
    "\n",
    "print(\"\\nFinal DataFrame after merging:\")\n",
    "print(final_df)\n"
   ]
  },
  {
   "cell_type": "markdown",
   "id": "484f5f97",
   "metadata": {},
   "source": [
    "<b>Task 5:</b>\n",
    "<br>Add a new bonus column in the Final dataframe. Give a 5% bonus concerning project cost only to employees who have finished the projects."
   ]
  },
  {
   "cell_type": "code",
   "execution_count": 5,
   "id": "93f5d425",
   "metadata": {},
   "outputs": [
    {
     "name": "stdout",
     "output_type": "stream",
     "text": [
      "\n",
      "Final DataFrame after adding Bonus column:\n",
      "      ID             Name Gender      City  Age  Designation Level  \\\n",
      "0   A001       John Alter      M     Paris   25                  2   \n",
      "1   A001       John Alter      M     Paris   25                  2   \n",
      "2   A001       John Alter      M     Paris   25                  2   \n",
      "3   A002  Alice Luxumberg      F    London   27                  2   \n",
      "4   A002  Alice Luxumberg      F    London   27                  2   \n",
      "5   A003    Tom Sabestine      M    Berlin   29                  3   \n",
      "6   A003    Tom Sabestine      M    Berlin   29                  3   \n",
      "7   A003    Tom Sabestine      M    Berlin   29                  3   \n",
      "8   A004       Nina Adgra      F  New York   31                  2   \n",
      "9   A004       Nina Adgra      F  New York   31                  2   \n",
      "10  A004       Nina Adgra      F  New York   31                  2   \n",
      "11  A005        Amy Johny      F    Madrid   30                  3   \n",
      "12  A005        Amy Johny      F    Madrid   30                  3   \n",
      "13  A005        Amy Johny      F    Madrid   30                  3   \n",
      "\n",
      "       Project       Cost    Status     Bonus  \n",
      "0    Project 1  1002000.0  Finished   50100.0  \n",
      "1    Project 9        NaN   Ongoing       0.0  \n",
      "2   Project 11  2000000.0    Failed       0.0  \n",
      "3    Project 2  2000000.0   Ongoing       0.0  \n",
      "4    Project 6   680000.0    Failed       0.0  \n",
      "5    Project 3  4500000.0  Finished  225000.0  \n",
      "6    Project 8   350000.0    Failed       0.0  \n",
      "7   Project 10   300000.0  Finished   15000.0  \n",
      "8    Project 4  5500000.0   Ongoing       0.0  \n",
      "9   Project 12  1000000.0   Ongoing       0.0  \n",
      "10  Project 13  3000000.0  Finished  150000.0  \n",
      "11   Project 5        NaN  Finished       NaN  \n",
      "12   Project 7   400000.0  Finished   20000.0  \n",
      "13  Project 14   200000.0  Finished   10000.0  \n"
     ]
    }
   ],
   "source": [
    "#Adding Bonus column\n",
    "final_df['Bonus'] = final_df.apply(lambda row: row['Cost'] * 0.05 if row['Status'] == 'Finished' else 0, axis=1)\n",
    "\n",
    "print(\"\\nFinal DataFrame after adding Bonus column:\")\n",
    "print(final_df)\n"
   ]
  },
  {
   "cell_type": "markdown",
   "id": "912dc4f0",
   "metadata": {},
   "source": [
    "<b>Task 6:</b>\n",
    "<br>Demote the designation level by 1 for employees whose projects have status “fail”. Delete the employees' records whose designation level is above 4."
   ]
  },
  {
   "cell_type": "code",
   "execution_count": 6,
   "id": "0bbc14d6",
   "metadata": {},
   "outputs": [
    {
     "name": "stdout",
     "output_type": "stream",
     "text": [
      "\n",
      "Final DataFrame after demoting and deleting records:\n",
      "      ID             Name Gender      City  Age  Designation Level  \\\n",
      "0   A001       John Alter      M     Paris   25                  2   \n",
      "1   A001       John Alter      M     Paris   25                  2   \n",
      "2   A001       John Alter      M     Paris   25                  1   \n",
      "3   A002  Alice Luxumberg      F    London   27                  2   \n",
      "4   A002  Alice Luxumberg      F    London   27                  1   \n",
      "5   A003    Tom Sabestine      M    Berlin   29                  3   \n",
      "6   A003    Tom Sabestine      M    Berlin   29                  2   \n",
      "7   A003    Tom Sabestine      M    Berlin   29                  3   \n",
      "8   A004       Nina Adgra      F  New York   31                  2   \n",
      "9   A004       Nina Adgra      F  New York   31                  2   \n",
      "10  A004       Nina Adgra      F  New York   31                  2   \n",
      "11  A005        Amy Johny      F    Madrid   30                  3   \n",
      "12  A005        Amy Johny      F    Madrid   30                  3   \n",
      "13  A005        Amy Johny      F    Madrid   30                  3   \n",
      "\n",
      "       Project       Cost    Status     Bonus  \n",
      "0    Project 1  1002000.0  Finished   50100.0  \n",
      "1    Project 9        NaN   Ongoing       0.0  \n",
      "2   Project 11  2000000.0    Failed       0.0  \n",
      "3    Project 2  2000000.0   Ongoing       0.0  \n",
      "4    Project 6   680000.0    Failed       0.0  \n",
      "5    Project 3  4500000.0  Finished  225000.0  \n",
      "6    Project 8   350000.0    Failed       0.0  \n",
      "7   Project 10   300000.0  Finished   15000.0  \n",
      "8    Project 4  5500000.0   Ongoing       0.0  \n",
      "9   Project 12  1000000.0   Ongoing       0.0  \n",
      "10  Project 13  3000000.0  Finished  150000.0  \n",
      "11   Project 5        NaN  Finished       NaN  \n",
      "12   Project 7   400000.0  Finished   20000.0  \n",
      "13  Project 14   200000.0  Finished   10000.0  \n"
     ]
    }
   ],
   "source": [
    "#Demoting designation level for failed projects\n",
    "final_df.loc[final_df['Status'] == 'Failed', 'Designation Level'] -= 1\n",
    "\n",
    "#Deleting records with designation level > 4\n",
    "final_df = final_df[final_df['Designation Level'] <= 4]\n",
    "\n",
    "print(\"\\nFinal DataFrame after demoting and deleting records:\")\n",
    "print(final_df)\n"
   ]
  },
  {
   "cell_type": "markdown",
   "id": "12789299",
   "metadata": {},
   "source": [
    "<b>Task 7:</b>\n",
    "<br>Add “Mr.” and “Mrs.” to the first name column based on gender and drop the gender column."
   ]
  },
  {
   "cell_type": "code",
   "execution_count": 4,
   "id": "87da0726",
   "metadata": {},
   "outputs": [
    {
     "name": "stdout",
     "output_type": "stream",
     "text": [
      "     ID      City  Age  First Name  Last Name\n",
      "0  A001     Paris   25    Mr. John      Alter\n",
      "1  A002    London   27  Mrs. Alice  Luxumberg\n",
      "2  A003    Berlin   29     Mr. Tom  Sabestine\n",
      "3  A004  New York   31   Mrs. Nina      Adgra\n",
      "4  A005    Madrid   30    Mrs. Amy      Johny\n"
     ]
    }
   ],
   "source": [
    "import pandas as pd\n",
    "\n",
    "#Reading the Employee CSV file created in Task 1\n",
    "employee_df = pd.read_csv('Employee.csv')\n",
    "\n",
    "#Spliting Name into First Name and Last Name\n",
    "employee_df[['First Name', 'Last Name']] = employee_df['Name'].str.split(' ', expand=True)\n",
    "employee_df.drop(columns=['Name'], inplace=True)\n",
    "\n",
    "#Adding title based on gender\n",
    "employee_df['First Name'] = employee_df.apply(lambda row: 'Mr. ' + row['First Name'] if row['Gender'] == 'M' else 'Mrs. ' + row['First Name'], axis=1)\n",
    "\n",
    "#Droping the Gender column\n",
    "employee_df.drop(columns=['Gender'], inplace=True)\n",
    "\n",
    "print(employee_df)\n"
   ]
  },
  {
   "cell_type": "markdown",
   "id": "838e808d",
   "metadata": {},
   "source": [
    "<b>Task 8:</b>\n",
    "<br>Promote the designation level by 1 for the employees whose age is more than 29 years using an IF condition."
   ]
  },
  {
   "cell_type": "code",
   "execution_count": 7,
   "id": "cc55a3bf",
   "metadata": {},
   "outputs": [
    {
     "name": "stdout",
     "output_type": "stream",
     "text": [
      "\n",
      "Final DataFrame after promoting designation level:\n",
      "      ID             Name Gender      City  Age  Designation Level  \\\n",
      "0   A001       John Alter      M     Paris   25                  2   \n",
      "1   A001       John Alter      M     Paris   25                  2   \n",
      "2   A001       John Alter      M     Paris   25                  2   \n",
      "3   A002  Alice Luxumberg      F    London   27                  2   \n",
      "4   A002  Alice Luxumberg      F    London   27                  2   \n",
      "5   A003    Tom Sabestine      M    Berlin   29                  3   \n",
      "6   A003    Tom Sabestine      M    Berlin   29                  3   \n",
      "7   A003    Tom Sabestine      M    Berlin   29                  3   \n",
      "8   A004       Nina Adgra      F  New York   31                  4   \n",
      "9   A004       Nina Adgra      F  New York   31                  4   \n",
      "10  A004       Nina Adgra      F  New York   31                  4   \n",
      "11  A005        Amy Johny      F    Madrid   30                  5   \n",
      "12  A005        Amy Johny      F    Madrid   30                  5   \n",
      "13  A005        Amy Johny      F    Madrid   30                  5   \n",
      "\n",
      "       Project       Cost    Status     Bonus  \n",
      "0    Project 1  1002000.0  Finished   50100.0  \n",
      "1    Project 9        NaN   Ongoing       0.0  \n",
      "2   Project 11  2000000.0    Failed       0.0  \n",
      "3    Project 2  2000000.0   Ongoing       0.0  \n",
      "4    Project 6   680000.0    Failed       0.0  \n",
      "5    Project 3  4500000.0  Finished  225000.0  \n",
      "6    Project 8   350000.0    Failed       0.0  \n",
      "7   Project 10   300000.0  Finished   15000.0  \n",
      "8    Project 4  5500000.0   Ongoing       0.0  \n",
      "9   Project 12  1000000.0   Ongoing       0.0  \n",
      "10  Project 13  3000000.0  Finished  150000.0  \n",
      "11   Project 5        NaN  Finished       NaN  \n",
      "12   Project 7   400000.0  Finished   20000.0  \n",
      "13  Project 14   200000.0  Finished   10000.0  \n"
     ]
    }
   ],
   "source": [
    "#Promoting designation level for employees older than 29\n",
    "final_df.loc[final_df['Age'] > 29, 'Designation Level'] += 1\n",
    "\n",
    "print(\"\\nFinal DataFrame after promoting designation level:\")\n",
    "print(final_df)\n"
   ]
  },
  {
   "cell_type": "markdown",
   "id": "1e0f053c",
   "metadata": {},
   "source": [
    "<b>Task 9:</b>\n",
    "<br>Add the cost of all projects for each Employee and save it in a new dataframe “TotalProjCost” with three columns: ID, First Name, and Total Cost."
   ]
  },
  {
   "cell_type": "code",
   "execution_count": 13,
   "id": "b8bb24cf",
   "metadata": {},
   "outputs": [
    {
     "name": "stdout",
     "output_type": "stream",
     "text": [
      "     ID First Name  Total Cost\n",
      "0  A001       John   3002000.0\n",
      "1  A002      Alice   2680000.0\n",
      "2  A003        Tom   5150000.0\n",
      "3  A004       Nina   9500000.0\n",
      "4  A005        Amy    600000.0\n"
     ]
    }
   ],
   "source": [
    "import pandas as pd\n",
    "\n",
    "#Load the Project.csv file\n",
    "project_df = pd.read_csv('Project.csv')\n",
    "\n",
    "#Fill missing values in the Cost column with 0 for calculation purposes\n",
    "project_df['Cost'].fillna(0, inplace=True)\n",
    "\n",
    "#Group by 'ID' and sum the 'Cost' column\n",
    "total_cost_df = project_df.groupby('ID')['Cost'].sum().reset_index()\n",
    "\n",
    "#Assuming the Employee DataFrame is already created and saved as Employee.csv\n",
    "employee_df = pd.read_csv('Employee.csv')\n",
    "\n",
    "#Split the Name column into First Name and Last Name\n",
    "employee_df[['First Name', 'Last Name']] = employee_df['Name'].str.split(' ', expand=True)\n",
    "employee_df.drop(columns=['Name'], inplace=True)\n",
    "\n",
    "#Merge the total cost with employee details\n",
    "total_proj_cost_df = pd.merge(employee_df, total_cost_df, on='ID')\n",
    "\n",
    "#Select relevant columns\n",
    "total_proj_cost_df = total_proj_cost_df[['ID', 'First Name', 'Cost']]\n",
    "total_proj_cost_df.rename(columns={'Cost': 'Total Cost'}, inplace=True)\n",
    "\n",
    "#Save the result to a new CSV file\n",
    "total_proj_cost_df.to_csv('TotalProjCost.csv', index=False)\n",
    "\n",
    "#Display the result\n",
    "print(total_proj_cost_df)\n"
   ]
  },
  {
   "cell_type": "markdown",
   "id": "9d3e9c2c",
   "metadata": {},
   "source": [
    "<b>Task 10:</b>\n",
    "<br>Print all the employee details whose city name contains the letter “o” in it."
   ]
  },
  {
   "cell_type": "code",
   "execution_count": 14,
   "id": "cefe89c5",
   "metadata": {},
   "outputs": [
    {
     "name": "stdout",
     "output_type": "stream",
     "text": [
      "     ID             Name Gender      City  Age\n",
      "1  A002  Alice Luxumberg      F    London   27\n",
      "3  A004       Nina Adgra      F  New York   31\n"
     ]
    }
   ],
   "source": [
    "import pandas as pd\n",
    "\n",
    "#Assuming the Employee DataFrame is already created and saved as Employee.csv\n",
    "employee_df = pd.read_csv('Employee.csv')\n",
    "\n",
    "#Filter employees whose city name contains the letter 'o'\n",
    "filtered_employees = employee_df[employee_df['City'].str.contains('o', case=False, na=False)]\n",
    "\n",
    "#Display the result\n",
    "print(filtered_employees)\n"
   ]
  },
  {
   "cell_type": "code",
   "execution_count": null,
   "id": "fe97db39",
   "metadata": {},
   "outputs": [],
   "source": []
  },
  {
   "cell_type": "code",
   "execution_count": null,
   "id": "eb47e9c1",
   "metadata": {},
   "outputs": [],
   "source": []
  }
 ],
 "metadata": {
  "kernelspec": {
   "display_name": "Python 3 (ipykernel)",
   "language": "python",
   "name": "python3"
  },
  "language_info": {
   "codemirror_mode": {
    "name": "ipython",
    "version": 3
   },
   "file_extension": ".py",
   "mimetype": "text/x-python",
   "name": "python",
   "nbconvert_exporter": "python",
   "pygments_lexer": "ipython3",
   "version": "3.11.5"
  }
 },
 "nbformat": 4,
 "nbformat_minor": 5
}
